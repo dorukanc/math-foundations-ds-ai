{
 "cells": [
  {
   "cell_type": "markdown",
   "metadata": {},
   "source": [
    "# logistic regression\n",
    "\n",
    "logistic func also called sigmoid\n",
    "\n",
    "logistic(t) = logistic(slope * x + intercept)\n",
    "\n",
    "this func would return values from 0 to 1\n",
    "\n",
    "for instance if the prob higher from 0.5 it would pass the exam, otherwise fail"
   ]
  },
  {
   "cell_type": "code",
   "execution_count": null,
   "metadata": {},
   "outputs": [],
   "source": [
    "# Import Logistic Regression\n",
    "\n",
    "from sklearn.linear_model import LogisticRegression"
   ]
  },
  {
   "cell_type": "code",
   "execution_count": null,
   "metadata": {},
   "outputs": [],
   "source": [
    "model = LogisticRegression(C=1e9)\n",
    "model.fit(hours_of_study, outcomes)"
   ]
  },
  {
   "cell_type": "code",
   "execution_count": null,
   "metadata": {},
   "outputs": [],
   "source": [
    "# Get parameters\n",
    "\n",
    "beta1 = model.coef_[0][0]\n",
    "beta0 = model.intercept_[0]"
   ]
  },
  {
   "cell_type": "code",
   "execution_count": null,
   "metadata": {},
   "outputs": [],
   "source": [
    "# Print parameters\n",
    "\n",
    "print(beta1, beta0)"
   ]
  },
  {
   "cell_type": "code",
   "execution_count": null,
   "metadata": {},
   "outputs": [],
   "source": [
    "# Predicting outcomes based on hours of study\n",
    "\n",
    "hours_of_study_test = [[10]]\n",
    "outcome = model.predict(hours_of_study_test)\n",
    "print(outcome)"
   ]
  },
  {
   "cell_type": "code",
   "execution_count": null,
   "metadata": {},
   "outputs": [],
   "source": [
    "# If you would like to get the prob\n",
    "# Put value in an array\n",
    "import numpy as np\n",
    "\n",
    "value = np.asarray(9).reshape(-1,1)\n",
    "# Calculate the prob for 9 hours of study\n",
    "print(model.predict_proba(value)[:,1])"
   ]
  }
 ],
 "metadata": {
  "kernelspec": {
   "display_name": "myenv",
   "language": "python",
   "name": "python3"
  },
  "language_info": {
   "name": "python",
   "version": "3.12.4"
  }
 },
 "nbformat": 4,
 "nbformat_minor": 2
}
