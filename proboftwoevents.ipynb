{
 "cells": [
  {
   "cell_type": "markdown",
   "metadata": {},
   "source": [
    "Generated a sample that represents 1000 fair two coin flips"
   ]
  },
  {
   "cell_type": "code",
   "execution_count": null,
   "metadata": {},
   "outputs": [],
   "source": [
    "from scipy.stats import binom\n",
    "sample = binom.rvs(n=2, p=0.5, size=1000, random_state=1)"
   ]
  },
  {
   "cell_type": "code",
   "execution_count": 3,
   "metadata": {},
   "outputs": [
    {
     "data": {
      "text/plain": [
       "RepeatedResults(values=array([0., 1., 2.]), counts=array([249, 497, 254]))"
      ]
     },
     "execution_count": 3,
     "metadata": {},
     "output_type": "execute_result"
    }
   ],
   "source": [
    "# Import the find_repeats from scipy\n",
    "\n",
    "from scipy.stats import find_repeats\n",
    "find_repeats(sample)"
   ]
  },
  {
   "cell_type": "markdown",
   "metadata": {},
   "source": [
    "Using biased_sample data generated, to calculate relative frequency of each outcome"
   ]
  },
  {
   "cell_type": "code",
   "execution_count": 4,
   "metadata": {},
   "outputs": [
    {
     "data": {
      "text/plain": [
       "array([0.644, 0.317, 0.039])"
      ]
     },
     "execution_count": 4,
     "metadata": {},
     "output_type": "execute_result"
    }
   ],
   "source": [
    "from scipy.stats import relfreq\n",
    "# generated a biased sample \n",
    "biased_sample = binom.rvs(n=2, p=0.2, size=1000, random_state=1)\n",
    "relfreq(biased_sample, numbins=3).frequency"
   ]
  },
  {
   "cell_type": "markdown",
   "metadata": {},
   "source": [
    "example, \n",
    "\n",
    "        engine, gearbox\n",
    "fails  0.01,     0.005\n",
    "works  0.99,     0.995"
   ]
  },
  {
   "cell_type": "code",
   "execution_count": 5,
   "metadata": {},
   "outputs": [
    {
     "name": "stdout",
     "output_type": "stream",
     "text": [
      "5e-05\n"
     ]
    }
   ],
   "source": [
    "# p of engine and gearbox fails\n",
    "\n",
    "p_eng_fails = 0.01\n",
    "p_gearbox_fails = 0.005\n",
    "\n",
    "p_both_fails = p_eng_fails * p_gearbox_fails\n",
    "\n",
    "print(p_both_fails)"
   ]
  },
  {
   "cell_type": "markdown",
   "metadata": {},
   "source": [
    "Calculate the prob that Jack or King\n",
    "\n",
    "standard deck has 52 cards, 4 jack and 4 king"
   ]
  },
  {
   "cell_type": "code",
   "execution_count": 6,
   "metadata": {},
   "outputs": [
    {
     "name": "stdout",
     "output_type": "stream",
     "text": [
      "0.15384615384615385\n"
     ]
    }
   ],
   "source": [
    "p_jack = 4/52\n",
    "p_king = 4/52\n",
    "\n",
    "p_king_or_jack = p_king + p_jack\n",
    "print(p_king_or_jack)"
   ]
  },
  {
   "cell_type": "markdown",
   "metadata": {},
   "source": [
    "For instance, In case of getting a jack or heart\n",
    "\n",
    "there's an overlapping card, the probabilty of getting jack or heart is\n",
    "\n",
    "prob (jack) + prob(heart) - p(overlapping_card)"
   ]
  },
  {
   "cell_type": "code",
   "execution_count": 7,
   "metadata": {},
   "outputs": [
    {
     "name": "stdout",
     "output_type": "stream",
     "text": [
      "0.3076923076923077\n"
     ]
    }
   ],
   "source": [
    "p_heart = 13/52\n",
    "p_jack_or_heart = p_jack + p_heart - 1/52\n",
    "\n",
    "print(p_jack_or_heart)"
   ]
  }
 ],
 "metadata": {
  "kernelspec": {
   "display_name": "Python 3",
   "language": "python",
   "name": "python3"
  },
  "language_info": {
   "codemirror_mode": {
    "name": "ipython",
    "version": 3
   },
   "file_extension": ".py",
   "mimetype": "text/x-python",
   "name": "python",
   "nbconvert_exporter": "python",
   "pygments_lexer": "ipython3",
   "version": "3.11.5"
  }
 },
 "nbformat": 4,
 "nbformat_minor": 2
}
