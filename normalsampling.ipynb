{
 "cells": [
  {
   "cell_type": "code",
   "execution_count": null,
   "metadata": {},
   "outputs": [],
   "source": [
    "# Import Norm, matplotlip.pyplot and seaborn\n",
    "\n",
    "from scipy.stats import norm\n",
    "import matplotlib.pyplot as plt\n",
    "import seaborn as sns"
   ]
  },
  {
   "cell_type": "code",
   "execution_count": null,
   "metadata": {},
   "outputs": [],
   "source": [
    "# Create a sample using norm.rvs()\n",
    "\n",
    "\"\"\"\n",
    "loc the mean of the distrubition\n",
    "scale the std dev of the distrubution\n",
    "size (int or tuple of ints) output shape, if the given shape is (m, n, k)\n",
    "then m * n * k samples are drawn.\n",
    "\n",
    "random_state = none or int or numpy.random.RandomState, If int \n",
    "random_state is the seed used by the random number generator, if random\n",
    "state instance, random_state is the random number generator, if none the\n",
    "random number gen is the randomstate instance used by numpy.random\n",
    "\n",
    "\"\"\"\n",
    "\n",
    "sample = norm.rvs(loc=5, scale=2, size=1000)"
   ]
  }
 ],
 "metadata": {
  "language_info": {
   "name": "python"
  }
 },
 "nbformat": 4,
 "nbformat_minor": 2
}
